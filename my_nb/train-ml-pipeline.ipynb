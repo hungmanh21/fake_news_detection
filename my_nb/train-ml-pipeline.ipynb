{
 "cells": [
  {
   "cell_type": "code",
   "execution_count": null,
   "metadata": {
    "execution": {
     "iopub.execute_input": "2025-07-14T10:37:27.710854Z",
     "iopub.status.busy": "2025-07-14T10:37:27.710635Z",
     "iopub.status.idle": "2025-07-14T10:37:29.445575Z",
     "shell.execute_reply": "2025-07-14T10:37:29.444807Z",
     "shell.execute_reply.started": "2025-07-14T10:37:27.710836Z"
    },
    "trusted": true
   },
   "outputs": [],
   "source": [
    "!git clone https://github.com/hungmanh21/fake_news_detection.git"
   ]
  },
  {
   "cell_type": "code",
   "execution_count": null,
   "metadata": {
    "execution": {
     "iopub.execute_input": "2025-07-14T10:37:29.448565Z",
     "iopub.status.busy": "2025-07-14T10:37:29.447817Z",
     "iopub.status.idle": "2025-07-14T10:37:29.454392Z",
     "shell.execute_reply": "2025-07-14T10:37:29.453605Z",
     "shell.execute_reply.started": "2025-07-14T10:37:29.448526Z"
    },
    "trusted": true
   },
   "outputs": [],
   "source": [
    "cd /kaggle/working/fake_news_detection"
   ]
  },
  {
   "cell_type": "code",
   "execution_count": null,
   "metadata": {
    "execution": {
     "iopub.execute_input": "2025-07-14T10:37:29.477103Z",
     "iopub.status.busy": "2025-07-14T10:37:29.476449Z",
     "iopub.status.idle": "2025-07-14T10:37:29.603832Z",
     "shell.execute_reply": "2025-07-14T10:37:29.602546Z",
     "shell.execute_reply.started": "2025-07-14T10:37:29.477083Z"
    },
    "trusted": true
   },
   "outputs": [],
   "source": [
    "!pwd"
   ]
  },
  {
   "cell_type": "code",
   "execution_count": null,
   "metadata": {
    "execution": {
     "iopub.execute_input": "2025-07-14T10:37:31.99157Z",
     "iopub.status.busy": "2025-07-14T10:37:31.991249Z",
     "iopub.status.idle": "2025-07-14T10:38:31.170852Z",
     "shell.execute_reply": "2025-07-14T10:38:31.169772Z",
     "shell.execute_reply.started": "2025-07-14T10:37:31.991536Z"
    },
    "trusted": true
   },
   "outputs": [],
   "source": [
    "!uv sync --locked --no-install-project --no-dev --quiet"
   ]
  },
  {
   "cell_type": "code",
   "execution_count": null,
   "metadata": {
    "execution": {
     "iopub.execute_input": "2025-07-14T10:38:31.172413Z",
     "iopub.status.busy": "2025-07-14T10:38:31.172108Z",
     "iopub.status.idle": "2025-07-14T10:38:31.177376Z",
     "shell.execute_reply": "2025-07-14T10:38:31.176767Z",
     "shell.execute_reply.started": "2025-07-14T10:38:31.172373Z"
    },
    "trusted": true
   },
   "outputs": [],
   "source": [
    "import os\n",
    "\n",
    "os.environ[\"WANDB_API_KEY\"] = \"abc\""
   ]
  },
  {
   "cell_type": "code",
   "execution_count": null,
   "metadata": {
    "execution": {
     "iopub.execute_input": "2025-07-14T10:38:31.178608Z",
     "iopub.status.busy": "2025-07-14T10:38:31.178332Z",
     "iopub.status.idle": "2025-07-14T11:16:05.839861Z",
     "shell.execute_reply": "2025-07-14T11:16:05.839167Z",
     "shell.execute_reply.started": "2025-07-14T10:38:31.178584Z"
    },
    "trusted": true
   },
   "outputs": [],
   "source": [
    "!uv run scripts/train.py --config configs/default.yaml"
   ]
  },
  {
   "cell_type": "code",
   "execution_count": null,
   "metadata": {
    "trusted": true
   },
   "outputs": [],
   "source": []
  }
 ],
 "metadata": {
  "kaggle": {
   "accelerator": "gpu",
   "dataSources": [],
   "dockerImageVersionId": 31089,
   "isGpuEnabled": true,
   "isInternetEnabled": true,
   "language": "python",
   "sourceType": "notebook"
  },
  "kernelspec": {
   "display_name": "Python 3",
   "language": "python",
   "name": "python3"
  },
  "language_info": {
   "codemirror_mode": {
    "name": "ipython",
    "version": 3
   },
   "file_extension": ".py",
   "mimetype": "text/x-python",
   "name": "python",
   "nbconvert_exporter": "python",
   "pygments_lexer": "ipython3",
   "version": "3.11.13"
  }
 },
 "nbformat": 4,
 "nbformat_minor": 4
}
